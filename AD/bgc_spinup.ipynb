{
 "cells": [
  {
   "cell_type": "code",
   "execution_count": 9,
   "id": "4248b904-3cde-49b5-8ade-88e846f6878f",
   "metadata": {},
   "outputs": [],
   "source": [
    "import create_ensemble_namelists\n",
    "import helper_func"
   ]
  },
  {
   "cell_type": "code",
   "execution_count": 16,
   "id": "64851275-7b72-4b45-9524-ae17446c9870",
   "metadata": {},
   "outputs": [],
   "source": [
    "import importlib\n",
    "import sys\n",
    "\n",
    "sys.path.append(\"/p/project1/cjibg36/jibg3674/BGC_spinup/\")\n",
    "\n",
    "importlib.reload(create_ensemble_namelists)\n",
    "importlib.reload(helper_func)\n",
    "\n",
    "from create_ensemble_namelists import *\n",
    "from helper_func import *"
   ]
  },
  {
   "cell_type": "code",
   "execution_count": 58,
   "id": "b13edcc6-f3d6-4bf9-9a07-02370ffd2697",
   "metadata": {},
   "outputs": [],
   "source": []
  },
  {
   "cell_type": "code",
   "execution_count": 116,
   "id": "810b6056-19a1-434d-80ac-e55c46eb5de4",
   "metadata": {},
   "outputs": [],
   "source": []
  },
  {
   "cell_type": "code",
   "execution_count": 66,
   "id": "3b502e3d-dc48-4570-921d-86d16a22435f",
   "metadata": {},
   "outputs": [],
   "source": []
  },
  {
   "cell_type": "code",
   "execution_count": 67,
   "id": "d4cfe4f3-c497-43b4-9cec-2593c644879f",
   "metadata": {},
   "outputs": [],
   "source": []
  },
  {
   "cell_type": "code",
   "execution_count": 68,
   "id": "f1e1c687-3549-43b4-ab5b-076ad4070d36",
   "metadata": {},
   "outputs": [
    {
     "name": "stdout",
     "output_type": "stream",
     "text": [
      "Found 14 cycle directories.\n"
     ]
    }
   ],
   "source": []
  },
  {
   "cell_type": "code",
   "execution_count": 75,
   "id": "31af0cdf-d0a6-43e2-a226-01d1aa46c61f",
   "metadata": {},
   "outputs": [
    {
     "name": "stdout",
     "output_type": "stream",
     "text": [
      "Computing deltas and equilibrium cycles (sustained-to-end)...\n"
     ]
    }
   ],
   "source": []
  },
  {
   "cell_type": "code",
   "execution_count": 117,
   "id": "fb1f3016-2948-4eb4-affc-f2b76d433db2",
   "metadata": {},
   "outputs": [
    {
     "name": "stderr",
     "output_type": "stream",
     "text": [
      "/tmp/ipykernel_3328952/1314957378.py:115: UserWarning: First parameter to grid() is false, but line properties are supplied. The grid will be enabled.\n",
      "  ax.grid(False, linewidth=0.6)\n",
      "/tmp/ipykernel_3328952/1314957378.py:120: UserWarning: First parameter to grid() is false, but line properties are supplied. The grid will be enabled.\n",
      "  ax.grid(False, linewidth=0.6)\n"
     ]
    }
   ],
   "source": []
  },
  {
   "cell_type": "code",
   "execution_count": 90,
   "id": "98b377d0-b03a-4153-9cb7-35741adf2c19",
   "metadata": {},
   "outputs": [
    {
     "name": "stdout",
     "output_type": "stream",
     "text": [
      "<xarray.DataArray 'lon' (lon: 444)> Size: 2kB\n",
      "array([349.42255 , 349.52026 , 349.61807 , ...,  36.936596,  37.04176 ,\n",
      "        37.146854], dtype=float32)\n",
      "Coordinates:\n",
      "  * lon      (lon) float32 2kB 349.4 349.5 349.6 349.7 ... 36.94 37.04 37.15\n"
     ]
    }
   ],
   "source": [
    "print(data['lon'])"
   ]
  },
  {
   "cell_type": "code",
   "execution_count": null,
   "id": "dcdc1346-1a0d-4505-b3fe-284db8373d8b",
   "metadata": {},
   "outputs": [],
   "source": []
  }
 ],
 "metadata": {
  "kernelspec": {
   "display_name": "conda_pytesmo",
   "language": "python",
   "name": "conda_pytesmo"
  },
  "language_info": {
   "codemirror_mode": {
    "name": "ipython",
    "version": 3
   },
   "file_extension": ".py",
   "mimetype": "text/x-python",
   "name": "python",
   "nbconvert_exporter": "python",
   "pygments_lexer": "ipython3",
   "version": "3.10.14"
  }
 },
 "nbformat": 4,
 "nbformat_minor": 5
}
